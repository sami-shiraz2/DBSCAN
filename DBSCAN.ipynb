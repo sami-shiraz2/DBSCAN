{
  "nbformat": 4,
  "nbformat_minor": 0,
  "metadata": {
    "colab": {
      "name": "DBSCAN.ipynb",
      "provenance": [],
      "collapsed_sections": []
    },
    "kernelspec": {
      "name": "python3",
      "display_name": "Python 3"
    }
  },
  "cells": [
    {
      "cell_type": "code",
      "metadata": {
        "colab": {
          "resources": {
            "http://localhost:8080/nbextensions/google.colab/files.js": {
              "data": "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",
              "ok": true,
              "headers": [
                [
                  "content-type",
                  "application/javascript"
                ]
              ],
              "status": 200,
              "status_text": ""
            }
          },
          "base_uri": "https://localhost:8080/",
          "height": 111
        },
        "id": "TjUlLmHJ6OgN",
        "outputId": "316d94de-adbb-4925-86f1-a9d067e28cdf"
      },
      "source": [
        "from google.colab import files\r\n",
        "files.upload()"
      ],
      "execution_count": 1,
      "outputs": [
        {
          "output_type": "display_data",
          "data": {
            "text/html": [
              "\n",
              "     <input type=\"file\" id=\"files-5fbd5795-874c-48f6-a653-22c307946091\" name=\"files[]\" multiple disabled\n",
              "        style=\"border:none\" />\n",
              "     <output id=\"result-5fbd5795-874c-48f6-a653-22c307946091\">\n",
              "      Upload widget is only available when the cell has been executed in the\n",
              "      current browser session. Please rerun this cell to enable.\n",
              "      </output>\n",
              "      <script src=\"/nbextensions/google.colab/files.js\"></script> "
            ],
            "text/plain": [
              "<IPython.core.display.HTML object>"
            ]
          },
          "metadata": {
            "tags": []
          }
        },
        {
          "output_type": "stream",
          "text": [
            "Saving DBSCAN-Algorithm-master.zip to DBSCAN-Algorithm-master.zip\n"
          ],
          "name": "stdout"
        },
        {
          "output_type": "execute_result",
          "data": {
            "text/plain": [
              "{'DBSCAN-Algorithm-master.zip': b'PK\\x03\\x04\\n\\x00\\x00\\x00\\x00\\x00A>\\xc5N\\x00\\x00\\x00\\x00\\x00\\x00\\x00\\x00\\x00\\x00\\x00\\x00\\x18\\x00\\t\\x00DBSCAN-Algorithm-master/UT\\x05\\x00\\x01\\x9b\\xd6\\xf7\\\\PK\\x03\\x04\\n\\x00\\x00\\x00\\x08\\x00A>\\xc5N\\xb6R\"7\\x95\\x01\\x00\\x00\\xc8\\x02\\x00\\x00!\\x00\\t\\x00DBSCAN-Algorithm-master/DBSCAN.pyUT\\x05\\x00\\x01\\x9b\\xd6\\xf7\\\\mRMk\\xdc0\\x10\\xbd\\xebW\\x0c\\xec!^pLKr*\\xe8\\xd0n\\x08\\xf4\\xd0^\\xda\\xc2\\xc2\\xb2\\x18\\xd9\\x1a\\xd7bG\\x1fh\\xe4\\x84\\xed\\xaf\\xefxm\\x87@\\x0b\\xc6\\xf2\\xbcy\\xd6{o\\xa4\\x1d<}\\xf9q\\xf8\\xfc\\x1d\\x0e4q\\xc1\\xec\\xc2o\\xa5v\\xf0\\xd5\\xa7\\x98\\x8b\\x14PF\\x04r]6\\xd9!+w\\xc3!L>]\\xc10\\x84\\xb4A\\xc9\\x04+\\x80<\\xc9\\xfe\\xbb\\x835\\xc50\\x16\\xb5\\xae\\xa0\\x85\\xd5d4\\xb6\\xed\\xf9\\xa5\\xba\\xfbf\\x88\\xda\\x83\\x18\\x88\\x1e37\\x82\\xdd\\xed\\xd5QX+\\xbfq\\x14\\xfb\\xd3\\xa7\\x1aN\\x0f5<\\x9e\\xcf\\xcd\\x8b\\xa1I\\xec\\xccB\\xbfx\\x13A\\xea\\xe2+x,c\\xb4P\"\\x0c.\\xd8[#\\xa6\\xe2\\xbc\\xa1\\xd9v\\x87\\x19\\xe2\\x00\\xfd\\x92\\x96\\xd5\\x90\\xa3\\x07\\xbe\\x10\\x9a\\x1c\\x9a\\x15\\x855\\xd22\\x19e;\\xeeM\\xd0KUab\\xfdP{\\x17Z6>\\x11\\xb2~\\xdc\\xcf6\\x9e]yK\\xeb\\xa3ER\\xea\\xb6\\xe8\\xe5\\xf7fp\\xa5:\\n\\x93L\\x87\\xc4\\xfa\\xd6k\\x96\\xa2\\x95\\x1c\\xef}l\\xfa\\x92$\\xbb^R\\xee\\x9c\\xc5P\\xdcp\\xdd\\x04Rt\\xa10\\xbc\\x8e\\xae\\x1f\\xc1\\x9b\\x0b2L\\t\\xe2\\x94\\xa1\\x8fyk\\xab\\xc5`;C\\xacCj\\xfe`\\x8e\\xdc\\x92\\xbb`\\xb5\\x08\\xd7\\xb6\\\\\\x13\\xea.F\\x12g\\xef\\xe9\\xa7\\xd5\\xf5\\\\\\xacA[\\x99\\xa6\\xeb\\x91\\xdb\\xb3\\xfe\\x99\\'\\x14W\\x07C\\xfdD\\xe6-\\xf6\\x7f\\xc6\\xabB\\xbb}k\\xc2P\\xc9Y\\xae\\xda\\xfb\\xfd=T\\x1f\\xc1\\rp/\\xef\\x00\\x0b*g\\xc8\\x08\\x1f\\xc4\\x8dRI.c\\xa9\\xd6!4\\xech\\x8c\\x13\\x96\"~fW\\xd5\\xb1\\xde6\\x9a\\xc9\\x7f\\x01PK\\x03\\x04\\n\\x00\\x00\\x00\\x08\\x00A>\\xc5N\\x8fg\\xc1\\x92\\x93\\x05\\x00\\x00\\xbe\\x10\\x00\\x00*\\x00\\t\\x00DBSCAN-Algorithm-master/Mall_Customers.csvUT\\x05\\x00\\x01\\x9b\\xd6\\xf7\\\\]W\\xcd\\xae\\x9d5\\x0c\\xdc#\\xf1\\x0e]\\xb0\\xa0R\\x90\\xe2\\xfc{\\x89@\\xa0.\\xba\\xea\\x13T\\xe5\\xa8B\\xb4\\xa7\\xe8B\\xdf\\x1f{\\xec$.\\x8b+]\\xcdq\\x1c\\x8f\\xff2\\xdf/_\\xff\\xf9\\xf7\\xcb\\xe7\\xc7\\xcb\\x9b_\\xd3\\xef\\x8f\\xe7\\xcb#\\xfd\\xfcQ\\xfe\\x9e\\xcf\\xaf\\xef?\\xbdz\\xf3\\xfc ?\\xbd\\xfa\\xf1\\xaf\\x1f^\\xa7w\\x7f?\\x9e\\x7f\\xfc\\xf9\\xfc\\xf8\\xea\\xdd\\x87//\\x82\\xd1O\\x94\\xf3\\xeb\\xef\\xbf\\xcb9Sz\\xfb\\xfe\\xd3#\\x11\\'\\xea\\xa92\\xb0bX!\\xc5\\x16\\x01\\xab\\xe9\\xb7\\xc7g\\xa09\\xd1H\\x03`;`UpN\\xa0}\\xa3U\\x1c\\xcc\\xd42\\xd0ql\\x8b\\xa2\\xd3<\\xccc\\xdb\\x13-w\\xbb\\xa2\\xdb\\x95\\xb8\\x01e\\x8bj4\\r\\xb6*D\\xf9\\x9c\\xce\\n\\xce\\x02\\xd4)\\x8d\\tV8L%\\xde\\xc3\\x89A\\x94\\x0e\\xa9\\xbe\\xc0\\xab\\x03\\xbd\\xac\\x9a\\xa2\\xc6J2\\x01\\xafu\\xc2\\xd2\\xee\\x1f\\x9e\\xa8\\x02;\\xf3\\x19\\x19I\\x06\\xab\\xf9\\\\n\\x99\\x15\\x1b\\xa0IN\\xa8\\x17\\xe5Yp\\xba\\xe4x\\xba&^@\\x9d\\x91b\\xcd=\\x96]$`\\x13\\xf1\\x94\\xc3\\xa7\\r\\xfd\\xc1\\x0c\\x9b\\x1f&\\x85\\xdc\\xf0\\x94\\xa8\\x0b\\xc5\\xe5I*\\x9b\\x0e+\\xb6\\x90\\xccr\\xe8\\xb4\\xaeh5t\\xdd\\x80\\xa4h\\xe8\\x109\\xb5-\\xb3\\xba\\xa8@k\\x0e\\xb5\\x14t!\\x99u\\x97(k\\xe5py=\\x15\\xd2\\xa4e\\x0f\\xb4V\\xcfQM\\xf2\\xaf\\x19:\\x1fI\\xa9@\\x8cx\\xea\\xe1\\xd3XQ\\xe3SGtY\\xbd\\x93\\xebeT\\x928#\\x8bh\\x85V\\xaa;\\xa1\\xf5p\\x12_Zy\\x14\\xae\\xe50\\x0b\\x82N\\xe4\\xb9\\xd1F\\x87\\x0c\\xd2\\xf22\\xb5]\\xa6\\xa6\\x98E\\xdb\\x9cT\\x13#\\t\\xd7|\\xb604\\x82ZN\\xdb7\\xbc\\xb4,@GhP\\xb5\\xb5\\x9b\\x0e\\xaf\\x9e\\xb5\\x04\\xdd\\xd0;K:\\x89\\xa9\\x81m;\\xbc\\xa4$\\x8a\"\\xae\\x9eC\\x0c\\x17\\xa5\\x10\\x83\\xd0\\xe9\\x86:/\\xadJ\\x91:\\x02\\xab\\xf1|\\x95\\xde\\x02\\xea\\xf5\\xea\\xac\\x98[\\xf6\\x18\\xab\\xb8@\\xac\\xdd\\xfbO\\x98(\\x86\\x0c\\xf4\\xcbJ|6\\xb1\\x07\\xea\\xfd7X\\xb1\\x86\\x0cv\\x8eL\\x87\\xd8+*\\x1d\\xb6\\x1bH0\\xb3\\x1c\\xde}3\\xc3\\xce\\xb0r\\xf6\\xa0b\\x88g\\x1c>\\xb2J$(c>Z\\x98\\x1dE1\\xb8\\xc3\\xd7\\x83\\x9c\\x91\\x94\\xfb\\xdd\\xe3t\\xaabfw\\xbb\\xcf,\\xc1g\\x9c*\\r\\xd86\\xd4y\\xf0\\x8di\\x9f\\x9f\\xb7F\\x05\\x96\\xa8\\xe7\\x0c\\x8c\\xd8\\xa3\\x9fg\\xa04\\x9f\\xec\\xd5\\x9c\\x97SF\\xf2\\xcdk\\xfb\\x16\\xb5\\x9c\\xcc~*\\x07\\xaa\\xc0\\xf6\\x8e\\x18\\x8aY\\x85g\\xdc\\x11\\x8abv\\xa6\\xd7H[\\xb19\\xa3\\xc9a\\x1b\\xa8%bZ9t\\x98\\xda\\x1a\\xea\\x9c\\xa4\\x03\\xd4\\x12\\x19]\\xbb\\xeb\\x160\\xf0\\\\\\xf5\\xac{=kv\\x87OC\\x9c\\rq\\xae\\x1e\\xf6\\x81\\x9e\\x07\\xa35\\xce4\\xf6\\xddK\\xebv]G\\x00\\x88~\\xddY*@\\xed\\xfe\\xbb#\\x9a\\xbe#\\xd6\\xe1\\x9cC\\x87\\x0bj~\\x99B\\x9d\\xfb\\xae\\x14\\x97\\xd3\\':$`\\xc0wG\\x8c]%\\xbe\\xac2P\\xbb\\xa9\\x87\\x8e\\x18{jy\\x9c\\xbd\\xa3%5l\\x86\\x8e\\x18{\\x17p\\xdc\\x10(?P\\xbe\\xf7\\x93\\xf9\\x14\\xc9p\\x1e1\\xc5\\x18\\x18\\x85\\x8a\\xca\\x10!z\\xca%TT\\xd1\\x05\\xf4VJ\\xb0n\\xe7\\xdb\\xe9\\'\\xc5:0\\xef;;\\x8b^\\xa4\\x1cw\\xb9z\\xb4\\x88\\x0e#\\x995\\x19=\\xc4N\\xd9;O\\xca\\xa9\\xe3h\\xe7\\xb7zX\\xc0\\xb4C\\x89\\x9c\\x8f\\x9d\\xb5\\x18\\x8fx\\xe8\\xf0\\x87[\\xaex\\x90I\\x1c\\xbe\\xd7\\xe8\\x8a\\x07\\xe9\\xc6\\xe1]K\\xd4\\xce\\xcc\\x0e\\xef&\\xa2S!U8}\\xdf4\\xa2\\xd7\\xee\\xb1_\\xf9 \\x17\\xa9\\xadE\\xbab>\\xbb\\xe7\\x8eN\\xe7\\xc9n\\xd4\\x15\\x05\\xdb\\x12;O\\x87b\\x02u^Z\\xe3\\xe99-%2p\\xa1FADd]\\xb0\\xe8}:*\\x82\\x15cT\\xf9\\xaa\\x0893\\xb3I\\x18*\\x87\\x97\\xbc\\x02\\xd3\\xe5\\x13\\xc9\\xbdo}\\xebM\\x17ET\\xee\\x86\\x10\\x8c\\r\\xe3\\xb3s\\x04#\\xdcS\\xf3\\x99z\\xc1\\xf0\\xda\\xd2V\\x10\\xd2\\xc9z\\x16P9!^\\xb3+[E\\xfb\\xe8{\\x0f4>\\xb6\\x82N\\xbb\\xa6\\x9f\\xf6\\x96-i\\xc7o\\xd7\\xb1\\x82\\x0b\\xb9\\x08\\nB\\x85B\\x02\\xc1\\xba%Q\\x01\\x84R\\xd4\\xbb\\xc0e\\xc3\\x12\\xd2\\xdb\\xa2\\xc2\\x13\\x14\\x9a\\x95\\xaex\\xe8\\xaa\\'\\xec\\xf6\\xad\\x1d\\xd4eO\\x0c\\x97\\xed\\x12\\x92l\\x0c\\xafYP\\x0fEQ\\xa8,j\\x9b\\x90\\\\$Z\\xd8.\\xda{a)\\xc6f7\\xcf\\xac\\x0b\\x06=BW7\\xa8G\\x89\\t\\x89kq\\xd7\\xc9\\x82/\\xf0\\xd9w}\\x801\"\\xeat\\xeb\\xbdLcQ\\x0f\\x05Z\\x9e\\xcb\\xab\\x19\\x9ay\\xb4\\xd3-t\\xe6\\\\\\xf6\\xb1@W5h\\xd5\\xc5\\xab\\xa1#\\xec/\\xf5\\x8bf\\xe8\\xf3\\xc8u\\xb5\\x04\\x14%\\x9e:\\xb5\\x008\\x06\\x0f\\xc3\\x91\\xffg\\x88\\xcc\\x8f[\"\\xf9\\xd2a\\xef\\xe1Qb\\x87\\x88\\xbe5\\xdbz\\n/\\xcf\\x98\\x19\\xc6\\x9e\\x13\\xd0\\xca\\xb9e\\x83\\xa4P^\\'\\xc8K\\x1aw\\x80\\x86\\xa2\\xd6\\xc9c\\x17\\xa9$y\\xb1,MW6\\xa8\\xba\\x1d>B#\\x8aVy\\xc9\\n\\x92?\\xf3i&\\xc1\\x06n\\xdf\\xb2AzR02\\xac\\x9c\\x06Y.mi:\\x1d\\xf3g}<[\\xc4 li^Y\\'\\xb7\\xac\\xedq\\x84t\\n\\xba\\xc0r:\\x9f\\xbe`i\\xf7\\xac\\xb3\\xa4\\x04\\x1b(\\xe4\\xbc\\x0b\\x81]\\xd8\\xd3\\xda\\\\t*\\xbc\\xe1\\xd6)O\\xd5\\xbe\\xb6\\x0f\\x15Z%\\xb4\\xb1\\xa0v\\xf7\\x96\\x0c2\\x0c\\xbc\\xef\\xbe\\x92A\\n\\xc9\\xbb=\\xafd\\x90\\te\\xb6\\x0fd\\xda\\x92A\\xf8\\x08fC\\x14$\\x83\\x8e\\xba|lY\\xa8\\xeb\\xa4S\\xc1a^9x\\xd5g\\xd1\\xe6\\xe3j\\x06I\\xaa\\xc2\\x0b\\x91]\\xd1\\xa0_+\\x02\\x17\\xa4\\x95#5\\x85-_[8\\xe8W\\x90<Q\\xb8\\x8f\\xe38)j\\xfb\\x9b\\xe3<\\x11\\xbe\\xeb\\x01\\x8f\\xb0\\xa1h\\x7f\\xd8\\x12G\\x95\\xa7[\\xbe\\x98\\xef\\xbb\\xf7\\x14\\xb4=\\xb1\\xd5\\x83\\x82R\\x0eR\\xcb\\xb2\\xe5\\x83~\\xab\\x0b\\xb8\\xea\\x7fPK\\x03\\x04\\n\\x00\\x00\\x00\\x00\\x00A>\\xc5N\\xf5\\xe0\\xc1Y\\x12\\x00\\x00\\x00\\x12\\x00\\x00\\x00!\\x00\\t\\x00DBSCAN-Algorithm-master/README.mdUT\\x05\\x00\\x01\\x9b\\xd6\\xf7\\\\# DBSCAN-AlgorithmPK\\x01\\x02\\x00\\x00\\n\\x00\\x00\\x00\\x00\\x00A>\\xc5N\\x00\\x00\\x00\\x00\\x00\\x00\\x00\\x00\\x00\\x00\\x00\\x00\\x18\\x00\\t\\x00\\x00\\x00\\x00\\x00\\x00\\x00\\x10\\x00\\x00\\x00\\x00\\x00\\x00\\x00DBSCAN-Algorithm-master/UT\\x05\\x00\\x01\\x9b\\xd6\\xf7\\\\PK\\x01\\x02\\x00\\x00\\n\\x00\\x00\\x00\\x08\\x00A>\\xc5N\\xb6R\"7\\x95\\x01\\x00\\x00\\xc8\\x02\\x00\\x00!\\x00\\t\\x00\\x00\\x00\\x00\\x00\\x01\\x00\\x00\\x00\\x00\\x00?\\x00\\x00\\x00DBSCAN-Algorithm-master/DBSCAN.pyUT\\x05\\x00\\x01\\x9b\\xd6\\xf7\\\\PK\\x01\\x02\\x00\\x00\\n\\x00\\x00\\x00\\x08\\x00A>\\xc5N\\x8fg\\xc1\\x92\\x93\\x05\\x00\\x00\\xbe\\x10\\x00\\x00*\\x00\\t\\x00\\x00\\x00\\x00\\x00\\x01\\x00\\x00\\x00\\x00\\x00\\x1c\\x02\\x00\\x00DBSCAN-Algorithm-master/Mall_Customers.csvUT\\x05\\x00\\x01\\x9b\\xd6\\xf7\\\\PK\\x01\\x02\\x00\\x00\\n\\x00\\x00\\x00\\x00\\x00A>\\xc5N\\xf5\\xe0\\xc1Y\\x12\\x00\\x00\\x00\\x12\\x00\\x00\\x00!\\x00\\t\\x00\\x00\\x00\\x00\\x00\\x01\\x00\\x00\\x00\\x00\\x00\\x00\\x08\\x00\\x00DBSCAN-Algorithm-master/README.mdUT\\x05\\x00\\x01\\x9b\\xd6\\xf7\\\\PK\\x05\\x06\\x00\\x00\\x00\\x00\\x04\\x00\\x04\\x00`\\x01\\x00\\x00Z\\x08\\x00\\x00(\\x00dc69c00c535c7694e109b34cf2e3c6438f9be4ca'}"
            ]
          },
          "metadata": {
            "tags": []
          },
          "execution_count": 1
        }
      ]
    },
    {
      "cell_type": "code",
      "metadata": {
        "colab": {
          "base_uri": "https://localhost:8080/"
        },
        "id": "7UASUsLd66KT",
        "outputId": "15526a82-c203-43b2-b9e6-816c257dd4ed"
      },
      "source": [
        "from zipfile import ZipFile\r\n",
        "filename=\"/content/DBSCAN-Algorithm-master.zip\"\r\n",
        "\r\n",
        "with ZipFile(filename, \"r\") as zip:\r\n",
        "  zip.extractall()\r\n",
        "  print(\"Done\")"
      ],
      "execution_count": 2,
      "outputs": [
        {
          "output_type": "stream",
          "text": [
            "Done\n"
          ],
          "name": "stdout"
        }
      ]
    },
    {
      "cell_type": "code",
      "metadata": {
        "id": "xRkMHH6b7V_9"
      },
      "source": [
        "import numpy as np\r\n",
        "import pandas as pd"
      ],
      "execution_count": 3,
      "outputs": []
    },
    {
      "cell_type": "code",
      "metadata": {
        "colab": {
          "base_uri": "https://localhost:8080/",
          "height": 197
        },
        "id": "MvIgZQUK7bYV",
        "outputId": "66271c5e-6f7e-406d-9fa0-9bb11291eb7c"
      },
      "source": [
        "df=pd.read_csv(\"/content/DBSCAN-Algorithm-master/Mall_Customers.csv\")\r\n",
        "df.head()"
      ],
      "execution_count": 4,
      "outputs": [
        {
          "output_type": "execute_result",
          "data": {
            "text/html": [
              "<div>\n",
              "<style scoped>\n",
              "    .dataframe tbody tr th:only-of-type {\n",
              "        vertical-align: middle;\n",
              "    }\n",
              "\n",
              "    .dataframe tbody tr th {\n",
              "        vertical-align: top;\n",
              "    }\n",
              "\n",
              "    .dataframe thead th {\n",
              "        text-align: right;\n",
              "    }\n",
              "</style>\n",
              "<table border=\"1\" class=\"dataframe\">\n",
              "  <thead>\n",
              "    <tr style=\"text-align: right;\">\n",
              "      <th></th>\n",
              "      <th>CustomerID</th>\n",
              "      <th>Genre</th>\n",
              "      <th>Age</th>\n",
              "      <th>Annual Income (k$)</th>\n",
              "      <th>Spending Score (1-100)</th>\n",
              "    </tr>\n",
              "  </thead>\n",
              "  <tbody>\n",
              "    <tr>\n",
              "      <th>0</th>\n",
              "      <td>1</td>\n",
              "      <td>Male</td>\n",
              "      <td>19</td>\n",
              "      <td>15</td>\n",
              "      <td>39</td>\n",
              "    </tr>\n",
              "    <tr>\n",
              "      <th>1</th>\n",
              "      <td>2</td>\n",
              "      <td>Male</td>\n",
              "      <td>21</td>\n",
              "      <td>15</td>\n",
              "      <td>81</td>\n",
              "    </tr>\n",
              "    <tr>\n",
              "      <th>2</th>\n",
              "      <td>3</td>\n",
              "      <td>Female</td>\n",
              "      <td>20</td>\n",
              "      <td>16</td>\n",
              "      <td>6</td>\n",
              "    </tr>\n",
              "    <tr>\n",
              "      <th>3</th>\n",
              "      <td>4</td>\n",
              "      <td>Female</td>\n",
              "      <td>23</td>\n",
              "      <td>16</td>\n",
              "      <td>77</td>\n",
              "    </tr>\n",
              "    <tr>\n",
              "      <th>4</th>\n",
              "      <td>5</td>\n",
              "      <td>Female</td>\n",
              "      <td>31</td>\n",
              "      <td>17</td>\n",
              "      <td>40</td>\n",
              "    </tr>\n",
              "  </tbody>\n",
              "</table>\n",
              "</div>"
            ],
            "text/plain": [
              "   CustomerID   Genre  Age  Annual Income (k$)  Spending Score (1-100)\n",
              "0           1    Male   19                  15                      39\n",
              "1           2    Male   21                  15                      81\n",
              "2           3  Female   20                  16                       6\n",
              "3           4  Female   23                  16                      77\n",
              "4           5  Female   31                  17                      40"
            ]
          },
          "metadata": {
            "tags": []
          },
          "execution_count": 4
        }
      ]
    },
    {
      "cell_type": "code",
      "metadata": {
        "colab": {
          "base_uri": "https://localhost:8080/"
        },
        "id": "W_fr0Pe_7hl7",
        "outputId": "4d16d190-c5b8-4921-e5a5-c2ca4d4afee3"
      },
      "source": [
        "df.shape"
      ],
      "execution_count": 5,
      "outputs": [
        {
          "output_type": "execute_result",
          "data": {
            "text/plain": [
              "(200, 5)"
            ]
          },
          "metadata": {
            "tags": []
          },
          "execution_count": 5
        }
      ]
    },
    {
      "cell_type": "code",
      "metadata": {
        "colab": {
          "base_uri": "https://localhost:8080/",
          "height": 197
        },
        "id": "5puERv4d7irw",
        "outputId": "3a2ba67c-c7ce-46ab-bfd0-37c7c8e178e8"
      },
      "source": [
        "X=df.iloc[:,3:]\r\n",
        "X.head()"
      ],
      "execution_count": 6,
      "outputs": [
        {
          "output_type": "execute_result",
          "data": {
            "text/html": [
              "<div>\n",
              "<style scoped>\n",
              "    .dataframe tbody tr th:only-of-type {\n",
              "        vertical-align: middle;\n",
              "    }\n",
              "\n",
              "    .dataframe tbody tr th {\n",
              "        vertical-align: top;\n",
              "    }\n",
              "\n",
              "    .dataframe thead th {\n",
              "        text-align: right;\n",
              "    }\n",
              "</style>\n",
              "<table border=\"1\" class=\"dataframe\">\n",
              "  <thead>\n",
              "    <tr style=\"text-align: right;\">\n",
              "      <th></th>\n",
              "      <th>Annual Income (k$)</th>\n",
              "      <th>Spending Score (1-100)</th>\n",
              "    </tr>\n",
              "  </thead>\n",
              "  <tbody>\n",
              "    <tr>\n",
              "      <th>0</th>\n",
              "      <td>15</td>\n",
              "      <td>39</td>\n",
              "    </tr>\n",
              "    <tr>\n",
              "      <th>1</th>\n",
              "      <td>15</td>\n",
              "      <td>81</td>\n",
              "    </tr>\n",
              "    <tr>\n",
              "      <th>2</th>\n",
              "      <td>16</td>\n",
              "      <td>6</td>\n",
              "    </tr>\n",
              "    <tr>\n",
              "      <th>3</th>\n",
              "      <td>16</td>\n",
              "      <td>77</td>\n",
              "    </tr>\n",
              "    <tr>\n",
              "      <th>4</th>\n",
              "      <td>17</td>\n",
              "      <td>40</td>\n",
              "    </tr>\n",
              "  </tbody>\n",
              "</table>\n",
              "</div>"
            ],
            "text/plain": [
              "   Annual Income (k$)  Spending Score (1-100)\n",
              "0                  15                      39\n",
              "1                  15                      81\n",
              "2                  16                       6\n",
              "3                  16                      77\n",
              "4                  17                      40"
            ]
          },
          "metadata": {
            "tags": []
          },
          "execution_count": 6
        }
      ]
    },
    {
      "cell_type": "code",
      "metadata": {
        "id": "MZXTY-207tjm"
      },
      "source": [
        "from sklearn.cluster import DBSCAN"
      ],
      "execution_count": 7,
      "outputs": []
    },
    {
      "cell_type": "code",
      "metadata": {
        "id": "5Q8xC7mF75BO"
      },
      "source": [
        "dbscan=DBSCAN(eps=3, min_samples=4)"
      ],
      "execution_count": 8,
      "outputs": []
    },
    {
      "cell_type": "code",
      "metadata": {
        "id": "VjMgkoIX8GHB"
      },
      "source": [
        "model=dbscan.fit(X)"
      ],
      "execution_count": 10,
      "outputs": []
    },
    {
      "cell_type": "code",
      "metadata": {
        "colab": {
          "base_uri": "https://localhost:8080/"
        },
        "id": "Y4ixxEbE8Jd5",
        "outputId": "5a3ea71d-01a6-4042-cf61-e19779f5b9f2"
      },
      "source": [
        "label=model.labels_\r\n",
        "label"
      ],
      "execution_count": 11,
      "outputs": [
        {
          "output_type": "execute_result",
          "data": {
            "text/plain": [
              "array([-1, -1, -1, -1, -1, -1, -1, -1, -1, -1, -1, -1, -1, -1, -1, -1, -1,\n",
              "       -1, -1, -1, -1, -1, -1, -1, -1, -1, -1, -1, -1, -1, -1, -1, -1, -1,\n",
              "       -1, -1, -1, -1, -1, -1, -1, -1, -1, -1, -1, -1, -1, -1, -1, -1, -1,\n",
              "       -1, -1, -1, -1, -1,  0,  0,  0,  0, -1, -1,  0, -1,  0, -1,  0,  0,\n",
              "       -1,  0, -1, -1,  0, -1,  1,  1,  1,  1,  1,  1,  1,  1,  1,  1,  1,\n",
              "        1,  1,  1, -1,  2,  1,  2,  2,  2,  2,  2,  2,  2,  2,  2,  2,  2,\n",
              "        2,  2,  2,  2,  2,  2,  2,  2,  2,  2,  2,  2,  2,  2,  2,  3,  2,\n",
              "        3,  3, -1,  3, -1, -1,  4, -1, -1, -1,  4,  5,  4, -1,  4,  5, -1,\n",
              "        5,  4, -1,  4,  5, -1, -1,  6, -1, -1, -1,  7, -1,  6, -1,  6, -1,\n",
              "        7, -1,  6, -1,  7, -1,  7, -1, -1, -1, -1, -1, -1, -1, -1, -1, -1,\n",
              "        8, -1,  8, -1,  8, -1,  8, -1, -1, -1, -1, -1, -1, -1, -1, -1, -1,\n",
              "       -1, -1, -1, -1, -1, -1, -1, -1, -1, -1, -1, -1, -1])"
            ]
          },
          "metadata": {
            "tags": []
          },
          "execution_count": 11
        }
      ]
    },
    {
      "cell_type": "code",
      "metadata": {
        "id": "v3SD6_a68Sta"
      },
      "source": [
        "# -1 mean that they are noisy points or outliers"
      ],
      "execution_count": 12,
      "outputs": []
    },
    {
      "cell_type": "code",
      "metadata": {
        "id": "9o4QwO9N9SE0"
      },
      "source": [
        "from sklearn import metrics"
      ],
      "execution_count": 13,
      "outputs": []
    },
    {
      "cell_type": "code",
      "metadata": {
        "id": "_rxwHKZx9WrQ"
      },
      "source": [
        "sample_core=np.zeros_like(label, dtype=bool)"
      ],
      "execution_count": 14,
      "outputs": []
    },
    {
      "cell_type": "code",
      "metadata": {
        "id": "TPPcy3_d9suP"
      },
      "source": [
        "sample_core[dbscan.core_sample_indices_]=True"
      ],
      "execution_count": 16,
      "outputs": []
    },
    {
      "cell_type": "code",
      "metadata": {
        "colab": {
          "base_uri": "https://localhost:8080/"
        },
        "id": "vv6JBMkR9tvX",
        "outputId": "62f75933-1fd2-47b9-9800-0191d03cc843"
      },
      "source": [
        "sample_core"
      ],
      "execution_count": 17,
      "outputs": [
        {
          "output_type": "execute_result",
          "data": {
            "text/plain": [
              "array([False, False, False, False, False, False, False, False, False,\n",
              "       False, False, False, False, False, False, False, False, False,\n",
              "       False, False, False, False, False, False, False, False, False,\n",
              "       False, False, False, False, False, False, False, False, False,\n",
              "       False, False, False, False, False, False, False, False, False,\n",
              "       False, False, False, False, False, False, False, False, False,\n",
              "       False, False, False, False,  True,  True, False, False,  True,\n",
              "       False,  True, False,  True,  True, False,  True, False, False,\n",
              "        True, False,  True,  True,  True,  True,  True, False,  True,\n",
              "        True, False,  True, False,  True, False,  True, False, False,\n",
              "       False,  True,  True,  True,  True,  True,  True,  True,  True,\n",
              "        True,  True,  True, False,  True,  True,  True,  True,  True,\n",
              "        True,  True,  True,  True,  True,  True,  True,  True,  True,\n",
              "       False, False,  True, False, False, False, False, False, False,\n",
              "       False, False, False,  True, False,  True, False, False, False,\n",
              "       False,  True,  True, False, False, False, False, False, False,\n",
              "       False, False, False, False, False, False, False,  True, False,\n",
              "        True, False,  True, False, False, False, False, False, False,\n",
              "       False, False, False, False, False, False, False, False,  True,\n",
              "       False, False, False, False, False, False, False, False, False,\n",
              "       False, False, False, False, False, False, False, False, False,\n",
              "       False, False, False, False, False, False, False, False, False,\n",
              "       False, False])"
            ]
          },
          "metadata": {
            "tags": []
          },
          "execution_count": 17
        }
      ]
    },
    {
      "cell_type": "code",
      "metadata": {
        "id": "dZ5p7PCI9148"
      },
      "source": [
        "n_cluster=len(set(label))- (1 if -1 in label else 0)"
      ],
      "execution_count": 20,
      "outputs": []
    },
    {
      "cell_type": "code",
      "metadata": {
        "colab": {
          "base_uri": "https://localhost:8080/"
        },
        "id": "OhMNqDLB-mIf",
        "outputId": "49b43ef9-383f-4b04-97b6-2232251df13e"
      },
      "source": [
        "n_cluster"
      ],
      "execution_count": 21,
      "outputs": [
        {
          "output_type": "execute_result",
          "data": {
            "text/plain": [
              "9"
            ]
          },
          "metadata": {
            "tags": []
          },
          "execution_count": 21
        }
      ]
    },
    {
      "cell_type": "code",
      "metadata": {
        "id": "d7Qs5uqN-mte"
      },
      "source": [
        ""
      ],
      "execution_count": null,
      "outputs": []
    }
  ]
}